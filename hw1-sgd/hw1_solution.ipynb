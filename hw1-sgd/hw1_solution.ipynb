{
 "cells": [
  {
   "cell_type": "code",
   "execution_count": 2,
   "metadata": {
    "collapsed": false
   },
   "outputs": [
    {
     "name": "stderr",
     "output_type": "stream",
     "text": [
      "/Users/twff/anaconda/lib/python3.5/site-packages/sklearn/cross_validation.py:44: DeprecationWarning: This module was deprecated in version 0.18 in favor of the model_selection module into which all the refactored classes and functions are moved. Also note that the interface of the new CV iterators are different from that of this module. This module will be removed in 0.20.\n",
      "  \"This module will be removed in 0.20.\", DeprecationWarning)\n"
     ]
    }
   ],
   "source": [
    "import pandas as pd\n",
    "import logging\n",
    "import numpy as np\n",
    "import sys\n",
    "import matplotlib.pyplot as plt\n",
    "from sklearn.cross_validation import train_test_split\n",
    "from sklearn import preprocessing\n",
    "from sklearn.datasets.samples_generator import make_regression \n",
    "%matplotlib inline"
   ]
  },
  {
   "cell_type": "markdown",
   "metadata": {},
   "source": [
    "### 2.1 Feature Normalization"
   ]
  },
  {
   "cell_type": "markdown",
   "metadata": {},
   "source": [
    "### 2.2 Gradient Descent Setup"
   ]
  },
  {
   "cell_type": "code",
   "execution_count": 3,
   "metadata": {
    "collapsed": true
   },
   "outputs": [],
   "source": [
    "def feature_normalization(train, test):\n",
    "    \"\"\"Rescale the data so that each feature in the training set is in\n",
    "    the interval [0,1], and apply the same transformations to the test\n",
    "    set, using the statistics computed on the training set.\n",
    "\n",
    "    Args:\n",
    "        train - training set, a 2D numpy array of size (num_instances, num_features)\n",
    "        test  - test set, a 2D numpy array of size (num_instances, num_features)\n",
    "    Returns:\n",
    "        train_normalized - training set after normalization\n",
    "        test_normalized  - test set after normalization\n",
    "\n",
    "    \"\"\"\n",
    "    mins_train = np.min(train, axis=0)\n",
    "    maxs_train = np.max(train, axis=0)\n",
    "    rng_train = maxs_train - mins_train\n",
    "    train_normalized = (train-mins_train)/rng_train\n",
    "    \n",
    "    mins_test = np.min(test, axis=0)\n",
    "    maxs_test = np.max(test, axis=0)\n",
    "    rng_test = maxs_test - mins_test\n",
    "    test_normalized = (test-mins_test)/rng_test\n",
    "    return train_normalized, test_normalized"
   ]
  },
  {
   "cell_type": "code",
   "execution_count": 43,
   "metadata": {
    "collapsed": false
   },
   "outputs": [
    {
     "name": "stdout",
     "output_type": "stream",
     "text": [
      "loading the dataset\n",
      "Split into Train and Test\n",
      "Scaling all to [0, 1]\n"
     ]
    }
   ],
   "source": [
    "\n",
    "    #Loading the dataset\n",
    "print('loading the dataset')\n",
    "    \n",
    "df = pd.read_csv('hw1-data.csv', delimiter=',')\n",
    "X = df.values[:,:-1]\n",
    "y = df.values[:,-1]\n",
    "\n",
    "print('Split into Train and Test')\n",
    "X_train, X_test, y_train, y_test = train_test_split(X, y, test_size =100, random_state=10)\n",
    "\n",
    "print(\"Scaling all to [0, 1]\")\n",
    "X_train, X_test = feature_normalization(X_train, X_test)\n",
    "X_train = np.hstack((X_train, np.ones((X_train.shape[0], 1))))  # Add bias term\n",
    "X_test = np.hstack((X_test, np.ones((X_test.shape[0], 1)))) # Add bias term"
   ]
  },
  {
   "cell_type": "code",
   "execution_count": 46,
   "metadata": {
    "collapsed": false
   },
   "outputs": [
    {
     "name": "stdout",
     "output_type": "stream",
     "text": [
      "loading the dataset\n",
      "Split into Train and Test\n",
      "Scaling all to [0, 1]\n"
     ]
    },
    {
     "name": "stderr",
     "output_type": "stream",
     "text": [
      "/Users/twff/anaconda/lib/python3.5/site-packages/numpy/core/numeric.py:301: FutureWarning: in the future, full((100, 1), 10) will return an array of dtype('int64')\n",
      "  format(shape, fill_value, array(fill_value).dtype), FutureWarning)\n"
     ]
    }
   ],
   "source": [
    "print('loading the dataset')\n",
    "    \n",
    "df = pd.read_csv('hw1-data.csv', delimiter=',')\n",
    "X = df.values[:,:-1]\n",
    "y = df.values[:,-1]\n",
    "\n",
    "print('Split into Train and Test')\n",
    "X_train, X_test, y_train, y_test = train_test_split(X, y, test_size =100, random_state=10)\n",
    "\n",
    "print(\"Scaling all to [0, 1]\")\n",
    "X_train, X_test = feature_normalization(X_train, X_test)\n",
    "X_train = np.hstack((X_train, np.full((X_train.shape[0], 1),10)))  # Add bias term\n",
    "X_test = np.hstack((X_test, np.full((X_test.shape[0], 1),10))) # Add bias term"
   ]
  },
  {
   "cell_type": "code",
   "execution_count": 47,
   "metadata": {
    "collapsed": false
   },
   "outputs": [
    {
     "name": "stdout",
     "output_type": "stream",
     "text": [
      "the minimum test loss is nan\n",
      "the minimum train loss is nan\n"
     ]
    },
    {
     "data": {
      "image/png": "[encoded data removed]",
      "text/plain": [
       "<matplotlib.figure.Figure at 0x11c11d048>"
      ]
     },
     "metadata": {},
     "output_type": "display_data"
    }
   ],
   "source": [
    "lamb = np.linspace(1e-7, 0.1, 100)\n",
    "plt.figure(figsize = (12, 6))\n",
    "J_train = np.zeros(len(lamb))\n",
    "J_test = np.zeros(len(lamb))\n",
    "thetas = np.zeros((len(lamb),X_train.shape[1]))\n",
    "axes = plt.gca()\n",
    "for i in range(len(lamb)):\n",
    "    theta, _ = regularized_grad_descent(X_train, y_train, alpha=0.1, lambda_reg = lamb[i], num_iter=1000)\n",
    "    thetas[i] = theta[-1]\n",
    "    J_train[i] = compute_square_loss(X_train, y_train, thetas[i])\n",
    "    J_test[i] = compute_square_loss(X_test, y_test, thetas[i])\n",
    "\n",
    "print('the minimum test loss is {}'.format(min(J_test)))\n",
    "print('the minimum train loss is {}'.format(min(J_train)))"
   ]
  },
  {
   "cell_type": "markdown",
   "metadata": {},
   "source": [
    "#### 1.\n",
    "the matrix expression of $J()$ is:\n",
    "$$J()="
   ]
  },
  {
   "cell_type": "markdown",
   "metadata": {},
   "source": [
    "#### 5."
   ]
  },
  {
   "cell_type": "code",
   "execution_count": 5,
   "metadata": {
    "collapsed": true
   },
   "outputs": [],
   "source": [
    "def compute_square_loss(X, y, theta):\n",
    "    \"\"\"\n",
    "    Given a set of X, y, theta, compute the square loss for predicting y with X*theta\n",
    "    \n",
    "    Args:\n",
    "        X - the feature vector, 2D numpy array of size (num_instances, num_features)\n",
    "        y - the label vector, 1D numpy array of size (num_instances)\n",
    "        theta - the parameter vector, 1D array of size (num_features)\n",
    "    \n",
    "    Returns:\n",
    "        loss - the square loss, scalar\n",
    "    \"\"\"\n",
    "    m = X.shape[0]\n",
    "    loss = 0 #initialize the square_loss\n",
    "    hypothesis = np.dot(X, theta)\n",
    "    loss = hypothesis - y\n",
    "    loss = np.sum(loss ** 2)/(2*m)\n",
    "    return loss"
   ]
  },
  {
   "cell_type": "code",
   "execution_count": 6,
   "metadata": {
    "collapsed": false
   },
   "outputs": [
    {
     "data": {
      "text/plain": [
       "326.12774127212788"
      ]
     },
     "execution_count": 6,
     "metadata": {},
     "output_type": "execute_result"
    }
   ],
   "source": [
    "theta = np.ones(X.shape[1])\n",
    "compute_square_loss(X, y, theta)"
   ]
  },
  {
   "cell_type": "markdown",
   "metadata": {},
   "source": [
    "#### 6."
   ]
  },
  {
   "cell_type": "code",
   "execution_count": 9,
   "metadata": {
    "collapsed": true
   },
   "outputs": [],
   "source": [
    "### compute the gradient of square loss function\n",
    "def compute_square_loss_gradient(X, y, theta):\n",
    "    \"\"\"\n",
    "    Compute gradient of the square loss (as defined in compute_square_loss), at the point theta.\n",
    "    \n",
    "    Args:\n",
    "        X - the feature vector, 2D numpy array of size (num_instances, num_features)\n",
    "        y - the label vector, 1D numpy array of size (num_instances)\n",
    "        theta - the parameter vector, 1D numpy array of size (num_features)\n",
    "    \n",
    "    Returns:\n",
    "        grad - gradient vector, 1D numpy array of size (num_features)\n",
    "    \"\"\"\n",
    "    hypothesis = np.dot(X, theta)\n",
    "    loss = hypothesis - y\n",
    "    gradient = np.dot(X.transpose(), loss)/len(y)\n",
    "    return gradient\n",
    "    "
   ]
  },
  {
   "cell_type": "code",
   "execution_count": 10,
   "metadata": {
    "collapsed": false
   },
   "outputs": [
    {
     "ename": "ValueError",
     "evalue": "shapes (100,49) and (48,) not aligned: 49 (dim 1) != 48 (dim 0)",
     "output_type": "error",
     "traceback": [
      "\u001b[0;31m---------------------------------------------------------------------------\u001b[0m",
      "\u001b[0;31mValueError\u001b[0m                                Traceback (most recent call last)",
      "\u001b[0;32m<ipython-input-10-a2e6355f65e2>\u001b[0m in \u001b[0;36m<module>\u001b[0;34m()\u001b[0m\n\u001b[0;32m----> 1\u001b[0;31m \u001b[0mcompute_square_loss_gradient\u001b[0m\u001b[0;34m(\u001b[0m\u001b[0mX_train\u001b[0m\u001b[0;34m,\u001b[0m \u001b[0my_train\u001b[0m\u001b[0;34m,\u001b[0m \u001b[0mtheta\u001b[0m\u001b[0;34m)\u001b[0m\u001b[0;34m\u001b[0m\u001b[0m\n\u001b[0m",
      "\u001b[0;32m<ipython-input-9-a1d0564318ee>\u001b[0m in \u001b[0;36mcompute_square_loss_gradient\u001b[0;34m(X, y, theta)\u001b[0m\n\u001b[1;32m     12\u001b[0m         \u001b[0mgrad\u001b[0m \u001b[0;34m-\u001b[0m \u001b[0mgradient\u001b[0m \u001b[0mvector\u001b[0m\u001b[0;34m,\u001b[0m \u001b[0;36m1\u001b[0m\u001b[0mD\u001b[0m \u001b[0mnumpy\u001b[0m \u001b[0marray\u001b[0m \u001b[0mof\u001b[0m \u001b[0msize\u001b[0m \u001b[0;34m(\u001b[0m\u001b[0mnum_features\u001b[0m\u001b[0;34m)\u001b[0m\u001b[0;34m\u001b[0m\u001b[0m\n\u001b[1;32m     13\u001b[0m     \"\"\"\n\u001b[0;32m---> 14\u001b[0;31m     \u001b[0mhypothesis\u001b[0m \u001b[0;34m=\u001b[0m \u001b[0mnp\u001b[0m\u001b[0;34m.\u001b[0m\u001b[0mdot\u001b[0m\u001b[0;34m(\u001b[0m\u001b[0mX\u001b[0m\u001b[0;34m,\u001b[0m \u001b[0mtheta\u001b[0m\u001b[0;34m)\u001b[0m\u001b[0;34m\u001b[0m\u001b[0m\n\u001b[0m\u001b[1;32m     15\u001b[0m     \u001b[0mloss\u001b[0m \u001b[0;34m=\u001b[0m \u001b[0mhypothesis\u001b[0m \u001b[0;34m-\u001b[0m \u001b[0my\u001b[0m\u001b[0;34m\u001b[0m\u001b[0m\n\u001b[1;32m     16\u001b[0m     \u001b[0mgradient\u001b[0m \u001b[0;34m=\u001b[0m \u001b[0mnp\u001b[0m\u001b[0;34m.\u001b[0m\u001b[0mdot\u001b[0m\u001b[0;34m(\u001b[0m\u001b[0mX\u001b[0m\u001b[0;34m.\u001b[0m\u001b[0mtranspose\u001b[0m\u001b[0;34m(\u001b[0m\u001b[0;34m)\u001b[0m\u001b[0;34m,\u001b[0m \u001b[0mloss\u001b[0m\u001b[0;34m)\u001b[0m\u001b[0;34m/\u001b[0m\u001b[0mlen\u001b[0m\u001b[0;34m(\u001b[0m\u001b[0my\u001b[0m\u001b[0;34m)\u001b[0m\u001b[0;34m\u001b[0m\u001b[0m\n",
      "\u001b[0;31mValueError\u001b[0m: shapes (100,49) and (48,) not aligned: 49 (dim 1) != 48 (dim 0)"
     ]
    }
   ],
   "source": [
    "compute_square_loss_gradient(X_train, y_train, theta)"
   ]
  },
  {
   "cell_type": "markdown",
   "metadata": {},
   "source": [
    "### 2.3"
   ]
  },
  {
   "cell_type": "code",
   "execution_count": 11,
   "metadata": {
    "collapsed": true
   },
   "outputs": [],
   "source": [
    "def compute_point_loss(X, y, theta):\n",
    "    m = X.shape[0]\n",
    "    loss = 0 #initialize the square_loss\n",
    "    hypothesis = np.dot(X, theta)\n",
    "    loss = hypothesis - y\n",
    "    loss = loss ** 2/(2*m)\n",
    "    return loss"
   ]
  },
  {
   "cell_type": "code",
   "execution_count": 12,
   "metadata": {
    "collapsed": false
   },
   "outputs": [
    {
     "data": {
      "text/plain": [
       "(326.12774127212788, 326.12774127212782)"
      ]
     },
     "execution_count": 12,
     "metadata": {},
     "output_type": "execute_result"
    }
   ],
   "source": [
    "theta = np.ones(X.shape[1])\n",
    "arr = compute_point_loss(X, y, theta)\n",
    "compute_square_loss(X, y, theta), sum(arr)"
   ]
  },
  {
   "cell_type": "code",
   "execution_count": 13,
   "metadata": {
    "collapsed": false
   },
   "outputs": [],
   "source": [
    "theta = np.ones(X_train.shape[1])\n",
    "\n",
    "    \n",
    "def generic_gradient_checker(X, y, theta, compute_square_loss, compute_square_loss_gradient, epsilon=0.001, tolerance=1e-4): \n",
    "    \"\"\"Implement Gradient Checker\n",
    "    Check that the function compute_square_loss_gradient returns the\n",
    "    correct gradient for the given X, y, and theta.\n",
    "\n",
    "    Let d be the number of features. Here we numerically estimate the\n",
    "    gradient by approximating the directional derivative in each of\n",
    "    the d coordinate directions: \n",
    "    (e_1 = (1,0,0,...,0), e_2 = (0,1,0,...,0), ..., e_d = (0,...,0,1) \n",
    "\n",
    "    The approximation for the directional derivative of J at the point\n",
    "    theta in the direction e_i is given by: \n",
    "    ( J(theta + epsilon * e_i) - J(theta - epsilon * e_i) ) / (2*epsilon).\n",
    "\n",
    "    We then look at the Euclidean distance between the gradient\n",
    "    computed using this approximation and the gradient computed by\n",
    "    compute_square_loss_gradient(X, y, theta).  If the Euclidean\n",
    "    distance exceeds tolerance, we say the gradient is incorrect.\n",
    "\n",
    "    Args:\n",
    "        X - the feature vector, 2D numpy array of size (num_instances, num_features)\n",
    "        y - the label vector, 1D numpy array of size (num_instances)\n",
    "        theta - the parameter vector, 1D numpy array of size (num_features)\n",
    "        epsilon - the epsilon used in approximation\n",
    "        tolerance - the tolerance error\n",
    "    \n",
    "    Return:\n",
    "        A boolean value indicate whether the gradient is correct or not\n",
    "\n",
    "    \"\"\"\n",
    "    true_gradient = compute_square_loss_gradient(X, y, theta) #the true gradient\n",
    "    num_features = theta.shape[0]\n",
    "    for i in range(num_features):\n",
    "        unit_vector = np.zeros(num_features)\n",
    "        unit_vector[i] = 1\n",
    "        approx_grad = (compute_square_loss(X, y, (theta + epsilon*unit_vector)) - compute_square_loss(X, y, (theta - epsilon*unit_vector)))/ (2 * epsilon)\n",
    "        error = abs(approx_grad-true_gradient[i])\n",
    "        if error > tolerance:\n",
    "            return False\n",
    "    return True"
   ]
  },
  {
   "cell_type": "code",
   "execution_count": 14,
   "metadata": {
    "collapsed": false
   },
   "outputs": [
    {
     "data": {
      "text/plain": [
       "True"
      ]
     },
     "execution_count": 14,
     "metadata": {},
     "output_type": "execute_result"
    }
   ],
   "source": [
    "generic_gradient_checker(X_train, y_train, theta, compute_square_loss, compute_square_loss_gradient, epsilon=0.01, tolerance=1e-4)"
   ]
  },
  {
   "cell_type": "markdown",
   "metadata": {},
   "source": [
    "### 2.4 Batch Gradient Descent"
   ]
  },
  {
   "cell_type": "code",
   "execution_count": 15,
   "metadata": {
    "collapsed": false
   },
   "outputs": [],
   "source": [
    "def batch_grad_descent(X, y, alpha=0.1, num_iter=1000, check_gradient=False):\n",
    "    \"\"\"\n",
    "    In this question you will implement batch gradient descent to\n",
    "    minimize the square loss objective\n",
    "    \n",
    "    Args:\n",
    "        X - the feature vector, 2D numpy array of size (num_instances, num_features)\n",
    "        y - the label vector, 1D numpy array of size (num_instances)\n",
    "        alpha - step size in gradient descent\n",
    "        num_iter - number of iterations to run \n",
    "        check_gradient - a boolean value indicating whether checking the gradient when updating\n",
    "        \n",
    "    Returns:\n",
    "        theta_hist - store the the history of parameter vector in iteration, 2D numpy array of size (num_iter+1, num_features) \n",
    "                    for instance, theta in iteration 0 should be theta_hist[0], theta in ieration (num_iter) is theta_hist[-1]\n",
    "        loss_hist - the history of objective function vector, 1D numpy array of size (num_iter+1) \n",
    "    \"\"\"\n",
    "    num_instances, num_features = X.shape[0], X.shape[1]\n",
    "    theta_hist = np.zeros((num_iter+1, num_features))  #Initialize theta_hist\n",
    "    loss_hist = np.zeros(num_iter+1) #initialize loss_hist\n",
    "    theta = np.ones(num_features) #initialize theta\n",
    "    for i in range(num_iter):\n",
    "        theta_hist[i] = theta\n",
    "        loss_hist[i] = compute_square_loss(X, y, theta)\n",
    "        gradient = compute_square_loss_gradient(X, y, theta)\n",
    "        theta = theta - alpha * gradient  # update\n",
    "    theta_hist[i+1] = theta\n",
    "    loss_hist[i+1] = compute_square_loss(X, y, theta)\n",
    "    return theta_hist, loss_hist"
   ]
  },
  {
   "cell_type": "code",
   "execution_count": 16,
   "metadata": {
    "collapsed": false,
    "scrolled": true
   },
   "outputs": [
    {
     "data": {
      "text/plain": [
       "array([ 441.43426102,  422.96690405,  405.28916056, ...,    1.03922721,\n",
       "          1.03915015,    1.03907327])"
      ]
     },
     "execution_count": 16,
     "metadata": {},
     "output_type": "execute_result"
    }
   ],
   "source": [
    "t, l = batch_grad_descent(X_train, y_train, alpha=0.1, num_iter=1000, check_gradient=False)\n",
    "l"
   ]
  },
  {
   "cell_type": "code",
   "execution_count": 17,
   "metadata": {
    "collapsed": false
   },
   "outputs": [
    {
     "data": {
      "text/plain": [
       "(array([[ 1.        ,  1.        ,  1.        , ...,  0.13241261,\n",
       "          0.13241261,  1.        ],\n",
       "        [ 1.        ,  1.        ,  1.        , ...,  0.92975578,\n",
       "          0.92975578,  1.        ],\n",
       "        [ 1.        ,  1.        ,  1.        , ...,  0.91055382,\n",
       "          0.91055382,  1.        ],\n",
       "        ..., \n",
       "        [ 1.        ,  0.        ,  0.        , ...,  0.04886354,\n",
       "          0.04886354,  1.        ],\n",
       "        [ 1.        ,  1.        ,  1.        , ...,  0.58441163,\n",
       "          0.58441163,  1.        ],\n",
       "        [ 0.        ,  0.        ,  0.        , ...,  0.03210449,\n",
       "          0.03210449,  1.        ]]),\n",
       " array([-2.79297326,  4.73657935,  1.43620799,  2.0695775 ,  3.94312311,\n",
       "         1.76617561,  0.91611135,  0.76990084,  1.60681512,  3.36768284,\n",
       "         1.79293615,  3.08832928, -2.02132147, -4.00773921,  2.48052193,\n",
       "         4.38447731,  0.91950092, -2.82605222, -0.60886527, -3.83638829,\n",
       "        -1.60157351,  0.22826982, -2.58186731, -2.56092793, -3.34526159,\n",
       "         4.50269335, -4.44969556, -4.23020189, -2.5520492 , -1.10955131,\n",
       "        -2.30265981, -0.75247436,  3.63661671,  0.2785769 , -0.84531072,\n",
       "        -2.64503524,  0.77287228,  1.40554021,  5.00093088, -0.47343601,\n",
       "         1.4317529 , -2.40339873,  1.26370085,  1.30756788,  3.74271571,\n",
       "        -1.96541891,  0.64912074,  1.4838342 ,  3.37935567,  0.78092277,\n",
       "        -0.0753373 ,  1.02471557, -2.4733757 , -4.06896259, -4.51006402,\n",
       "         0.78185026, -1.56933449, -1.81276409, -3.60524511, -1.09713606,\n",
       "         1.65529714, -1.08626739, -0.77838414,  2.88261376, -4.79435919,\n",
       "        -6.25076628, -1.71315985, -1.5461558 , -3.81318257,  3.30219666,\n",
       "         3.53021594, -1.08565422, -4.57570986, -1.17918737,  2.37074104,\n",
       "         3.70443247, -1.6364861 , -0.54946543,  1.46256095,  0.04897365,\n",
       "        -2.80992306,  2.19034126,  3.16804127, -2.02025154, -2.04233946,\n",
       "        -0.34722956, -1.00572379, -0.17286848, -1.37657523,  2.43938702,\n",
       "         0.43994086,  2.50356596, -5.70530859, -5.12864687,  7.25025262,\n",
       "        -1.24013089, -1.1997775 , -3.4037511 ,  6.58813271, -2.38611859]))"
      ]
     },
     "execution_count": 17,
     "metadata": {},
     "output_type": "execute_result"
    }
   ],
   "source": [
    "X_train, y_train"
   ]
  },
  {
   "cell_type": "markdown",
   "metadata": {},
   "source": [
    "#### 2.4.2"
   ]
  },
  {
   "cell_type": "code",
   "execution_count": 18,
   "metadata": {
    "collapsed": false,
    "scrolled": true
   },
   "outputs": [
    {
     "data": {
      "image/png": "[encoded data removed]",
      "text/plain": [
       "<matplotlib.figure.Figure at 0x11a772940>"
      ]
     },
     "metadata": {},
     "output_type": "display_data"
    }
   ],
   "source": [
    "alpha = [0.1, 0.05, 0.01,0.001,0.1010,0.1009,0.1011]\n",
    "fig = plt.figure(figsize = (15,6))\n",
    "for i in range(len(alpha)):\n",
    "    t, loss = batch_grad_descent(X_train, y_train, alpha = alpha[i], num_iter=2000, check_gradient=False)\n",
    "    plt.plot(range(loss.shape[0]), loss, label = 'alpha=' + str(alpha[i]))\n",
    "    plt.yscale('log')\n",
    "fig.suptitle(\"Training Loss\")\n",
    "plt.xlabel(\"number of step\")\n",
    "plt.ylabel(\"Loss\")\n",
    "plt.legend()\n",
    "plt.savefig('/Users/twff/Downloads/machine learning/hw/hw1-sgd/image242')"
   ]
  },
  {
   "cell_type": "markdown",
   "metadata": {},
   "source": [
    "From the figure1, we can see, among the different step sizes alpha=0.05 converges most quickly and alpha=0.1 has the lowest loss. When step size equals 0.01 and 0.001, it seems that the objective function converges to local minimum instead of global minimum and maybe it is due to the step size is too small. when the alpha comes to 0.1009, though function still converges to global minimum, but the rate of converge is pretty slow. After step size bigger than 0.1011, instead of converaging, the function seems to begin diverging."
   ]
  },
  {
   "cell_type": "code",
   "execution_count": 19,
   "metadata": {
    "collapsed": false
   },
   "outputs": [
    {
     "ename": "SyntaxError",
     "evalue": "invalid syntax (<ipython-input-19-bc027ccc7d2c>, line 29)",
     "output_type": "error",
     "traceback": [
      "\u001b[0;36m  File \u001b[0;32m\"<ipython-input-19-bc027ccc7d2c>\"\u001b[0;36m, line \u001b[0;32m29\u001b[0m\n\u001b[0;31m    if Verbose: print 'linesearch iteration', fc, ':', stp, f(x + stp * p, *args), f_x + alpha * stp * derphi\u001b[0m\n\u001b[0m                                           ^\u001b[0m\n\u001b[0;31mSyntaxError\u001b[0m\u001b[0;31m:\u001b[0m invalid syntax\n"
     ]
    }
   ],
   "source": [
    "def BacktrackingLineSearch(func, df, x, p, args = (), alpha = 0.0001, beta = 0.9, eps = 1,):\n",
    "\n",
    "    step_size = 1.0\n",
    "    fc = 0\n",
    "    len_p = norm(p)\n",
    "\n",
    "\n",
    "    while func(x + step_size * p, args) > f_x + alpha * step_size * theta:\n",
    "        step_size *= beta\n",
    "        fc += 1\n",
    "        if Verbose: print 'linesearch iteration', fc, ':', stp, f(x + stp * p, *args), f_x + alpha * stp * theta\n",
    "        if stp * len_p < eps:\n",
    "            print 'Step is  too small'\n",
    "            break\n",
    "    return step_size\n"
   ]
  },
  {
   "cell_type": "markdown",
   "metadata": {},
   "source": [
    "Summary:"
   ]
  },
  {
   "cell_type": "markdown",
   "metadata": {},
   "source": []
  },
  {
   "cell_type": "code",
   "execution_count": 20,
   "metadata": {
    "collapsed": true
   },
   "outputs": [],
   "source": [
    "### Compute the gradient of Regularized Batch Gradient Descent\n",
    "def compute_regularized_square_loss_gradient(X, y, theta, lambda_reg):\n",
    "    \"\"\"\n",
    "    Compute the gradient of L2-regularized square loss function given X, y and theta\n",
    "    \n",
    "    Args:\n",
    "        X - the feature vector, 2D numpy array of size (num_instances, num_features)\n",
    "        y - the label vector, 1D numpy array of size (num_instances)\n",
    "        theta - the parameter vector, 1D numpy array of size (num_features)\n",
    "        lambda_reg - the regularization coefficient\n",
    "    \n",
    "    Returns:\n",
    "        grad - gradient vector, 1D numpy array of size (num_features)\n",
    "    \"\"\"\n",
    "    grad = compute_square_loss_gradient(X, y, theta)\n",
    "    grad = grad + 2 * lambda_reg * theta\n",
    "    return grad"
   ]
  },
  {
   "cell_type": "code",
   "execution_count": 21,
   "metadata": {
    "collapsed": false
   },
   "outputs": [
    {
     "ename": "ValueError",
     "evalue": "shapes (200,48) and (49,) not aligned: 48 (dim 1) != 49 (dim 0)",
     "output_type": "error",
     "traceback": [
      "\u001b[0;31m---------------------------------------------------------------------------\u001b[0m",
      "\u001b[0;31mValueError\u001b[0m                                Traceback (most recent call last)",
      "\u001b[0;32m<ipython-input-21-8c89e1e82bee>\u001b[0m in \u001b[0;36m<module>\u001b[0;34m()\u001b[0m\n\u001b[1;32m      1\u001b[0m \u001b[0mlambda_reg\u001b[0m \u001b[0;34m=\u001b[0m \u001b[0;36m0.1\u001b[0m\u001b[0;34m\u001b[0m\u001b[0m\n\u001b[0;32m----> 2\u001b[0;31m \u001b[0mcompute_regularized_square_loss_gradient\u001b[0m\u001b[0;34m(\u001b[0m\u001b[0mX\u001b[0m\u001b[0;34m,\u001b[0m \u001b[0my\u001b[0m\u001b[0;34m,\u001b[0m \u001b[0mtheta\u001b[0m\u001b[0;34m,\u001b[0m \u001b[0mlambda_reg\u001b[0m\u001b[0;34m)\u001b[0m\u001b[0;34m\u001b[0m\u001b[0m\n\u001b[0m",
      "\u001b[0;32m<ipython-input-20-db45693f097a>\u001b[0m in \u001b[0;36mcompute_regularized_square_loss_gradient\u001b[0;34m(X, y, theta, lambda_reg)\u001b[0m\n\u001b[1;32m     13\u001b[0m         \u001b[0mgrad\u001b[0m \u001b[0;34m-\u001b[0m \u001b[0mgradient\u001b[0m \u001b[0mvector\u001b[0m\u001b[0;34m,\u001b[0m \u001b[0;36m1\u001b[0m\u001b[0mD\u001b[0m \u001b[0mnumpy\u001b[0m \u001b[0marray\u001b[0m \u001b[0mof\u001b[0m \u001b[0msize\u001b[0m \u001b[0;34m(\u001b[0m\u001b[0mnum_features\u001b[0m\u001b[0;34m)\u001b[0m\u001b[0;34m\u001b[0m\u001b[0m\n\u001b[1;32m     14\u001b[0m     \"\"\"\n\u001b[0;32m---> 15\u001b[0;31m     \u001b[0mgrad\u001b[0m \u001b[0;34m=\u001b[0m \u001b[0mcompute_square_loss_gradient\u001b[0m\u001b[0;34m(\u001b[0m\u001b[0mX\u001b[0m\u001b[0;34m,\u001b[0m \u001b[0my\u001b[0m\u001b[0;34m,\u001b[0m \u001b[0mtheta\u001b[0m\u001b[0;34m)\u001b[0m\u001b[0;34m\u001b[0m\u001b[0m\n\u001b[0m\u001b[1;32m     16\u001b[0m     \u001b[0mgrad\u001b[0m \u001b[0;34m=\u001b[0m \u001b[0mgrad\u001b[0m \u001b[0;34m+\u001b[0m \u001b[0;36m2\u001b[0m \u001b[0;34m*\u001b[0m \u001b[0mlambda_reg\u001b[0m \u001b[0;34m*\u001b[0m \u001b[0mtheta\u001b[0m\u001b[0;34m\u001b[0m\u001b[0m\n\u001b[1;32m     17\u001b[0m     \u001b[0;32mreturn\u001b[0m \u001b[0mgrad\u001b[0m\u001b[0;34m\u001b[0m\u001b[0m\n",
      "\u001b[0;32m<ipython-input-9-a1d0564318ee>\u001b[0m in \u001b[0;36mcompute_square_loss_gradient\u001b[0;34m(X, y, theta)\u001b[0m\n\u001b[1;32m     12\u001b[0m         \u001b[0mgrad\u001b[0m \u001b[0;34m-\u001b[0m \u001b[0mgradient\u001b[0m \u001b[0mvector\u001b[0m\u001b[0;34m,\u001b[0m \u001b[0;36m1\u001b[0m\u001b[0mD\u001b[0m \u001b[0mnumpy\u001b[0m \u001b[0marray\u001b[0m \u001b[0mof\u001b[0m \u001b[0msize\u001b[0m \u001b[0;34m(\u001b[0m\u001b[0mnum_features\u001b[0m\u001b[0;34m)\u001b[0m\u001b[0;34m\u001b[0m\u001b[0m\n\u001b[1;32m     13\u001b[0m     \"\"\"\n\u001b[0;32m---> 14\u001b[0;31m     \u001b[0mhypothesis\u001b[0m \u001b[0;34m=\u001b[0m \u001b[0mnp\u001b[0m\u001b[0;34m.\u001b[0m\u001b[0mdot\u001b[0m\u001b[0;34m(\u001b[0m\u001b[0mX\u001b[0m\u001b[0;34m,\u001b[0m \u001b[0mtheta\u001b[0m\u001b[0;34m)\u001b[0m\u001b[0;34m\u001b[0m\u001b[0m\n\u001b[0m\u001b[1;32m     15\u001b[0m     \u001b[0mloss\u001b[0m \u001b[0;34m=\u001b[0m \u001b[0mhypothesis\u001b[0m \u001b[0;34m-\u001b[0m \u001b[0my\u001b[0m\u001b[0;34m\u001b[0m\u001b[0m\n\u001b[1;32m     16\u001b[0m     \u001b[0mgradient\u001b[0m \u001b[0;34m=\u001b[0m \u001b[0mnp\u001b[0m\u001b[0;34m.\u001b[0m\u001b[0mdot\u001b[0m\u001b[0;34m(\u001b[0m\u001b[0mX\u001b[0m\u001b[0;34m.\u001b[0m\u001b[0mtranspose\u001b[0m\u001b[0;34m(\u001b[0m\u001b[0;34m)\u001b[0m\u001b[0;34m,\u001b[0m \u001b[0mloss\u001b[0m\u001b[0;34m)\u001b[0m\u001b[0;34m/\u001b[0m\u001b[0mlen\u001b[0m\u001b[0;34m(\u001b[0m\u001b[0my\u001b[0m\u001b[0;34m)\u001b[0m\u001b[0;34m\u001b[0m\u001b[0m\n",
      "\u001b[0;31mValueError\u001b[0m: shapes (200,48) and (49,) not aligned: 48 (dim 1) != 49 (dim 0)"
     ]
    }
   ],
   "source": [
    "lambda_reg = 0.1\n",
    "compute_regularized_square_loss_gradient(X, y, theta, lambda_reg)"
   ]
  },
  {
   "cell_type": "code",
   "execution_count": 22,
   "metadata": {
    "collapsed": true
   },
   "outputs": [],
   "source": [
    "def regularized_grad_descent(X, y, alpha=0.01, lambda_reg=0.01, num_iter=1000):\n",
    "    \"\"\"\n",
    "    Args:\n",
    "        X - the feature vector, 2D numpy array of size (num_instances, num_features)\n",
    "        y - the label vector, 1D numpy array of size (num_instances)\n",
    "        alpha - step size in gradient descent\n",
    "        lambda_reg - the regularization coefficient\n",
    "        numIter - number of iterations to run \n",
    "        \n",
    "    Returns:\n",
    "        theta_hist - the history of parameter vector, 2D numpy array of size (num_iter+1, num_features) \n",
    "        loss_hist - the history of regularized loss value, 1D numpy array\n",
    "    \"\"\"\n",
    "    (num_instances, num_features) = X.shape\n",
    "    theta = np.ones(num_features) #Initialize theta\n",
    "    theta_hist = np.zeros((num_iter+1, num_features))  #Initialize theta_hist\n",
    "    loss_hist = np.zeros(num_iter+1) #Initialize loss_hist\n",
    "    for i in range(num_iter):\n",
    "        hypothesis = np.dot(X, theta)\n",
    "        loss = hypothesis - y\n",
    "        theta_hist[i] = theta\n",
    "        loss_hist[i] = compute_square_loss(X, y, theta)\n",
    "        gradient = compute_square_loss_gradient(X, y, theta)\n",
    "        gradient = gradient + 2 * lambda_reg * theta\n",
    "        theta = theta - alpha * gradient  # update\n",
    "    theta_hist[i+1,:] = theta\n",
    "    loss_hist[i+1] = compute_square_loss(X, y, theta) + ((2 *lambda_reg) / X.shape[0])*sum(theta**2)\n",
    "    return theta_hist, loss_hist\n",
    "    "
   ]
  },
  {
   "cell_type": "code",
   "execution_count": 23,
   "metadata": {
    "collapsed": false
   },
   "outputs": [
    {
     "data": {
      "text/plain": [
       "(array([[  1.00000000e+00,   1.00000000e+00,   1.00000000e+00, ...,\n",
       "           1.00000000e+00,   1.00000000e+00,   1.00000000e+00],\n",
       "        [ -1.80701321e+00,  -1.75832650e+00,  -1.70505426e+00, ...,\n",
       "          -8.85255853e-01,  -8.85255853e-01,  -1.82376814e+00],\n",
       "        [  1.64930708e+00,   1.66679503e+00,   1.66364610e+00, ...,\n",
       "           1.26971450e+00,   1.26971450e+00,   1.64485893e+00],\n",
       "        ..., \n",
       "        [  2.68468051e+71,   2.65124808e+71,   2.60399796e+71, ...,\n",
       "           1.72005129e+71,   1.72005129e+71,   2.69687633e+71],\n",
       "        [ -3.16476989e+71,  -3.12535890e+71,  -3.06965924e+71, ...,\n",
       "          -2.02764035e+71,  -2.02764035e+71,  -3.17914663e+71],\n",
       "        [  3.73071151e+71,   3.68425282e+71,   3.61859265e+71, ...,\n",
       "           2.39023418e+71,   2.39023418e+71,   3.74765918e+71]]),\n",
       " array([  4.41434261e+002,   6.12609449e+002,   8.48066033e+002, ...,\n",
       "          1.79608926e+145,   2.49589881e+145,   3.47538584e+145]))"
      ]
     },
     "execution_count": 23,
     "metadata": {},
     "output_type": "execute_result"
    }
   ],
   "source": [
    "regularized_grad_descent(X_train, y_train, alpha=0.1, lambda_reg=1, num_iter=1000)"
   ]
  },
  {
   "cell_type": "markdown",
   "metadata": {
    "collapsed": true
   },
   "source": [
    "#### 2.5.4\n",
    "When B is large enough, we can see the whole regulazation $$ as omaga(f)"
   ]
  },
  {
   "cell_type": "markdown",
   "metadata": {
    "collapsed": true
   },
   "source": [
    "#### 2.5.7"
   ]
  },
  {
   "cell_type": "code",
   "execution_count": 24,
   "metadata": {
    "collapsed": false
   },
   "outputs": [
    {
     "name": "stdout",
     "output_type": "stream",
     "text": [
      "the minimum test loss is 1.220667675941963\n",
      "the minimum train loss is 1.039074511634143\n"
     ]
    },
    {
     "data": {
      "image/png": "[encoded data removed]",
      "text/plain": [
       "<matplotlib.figure.Figure at 0x11b464198>"
      ]
     },
     "metadata": {},
     "output_type": "display_data"
    }
   ],
   "source": [
    "lamb = np.linspace(1e-7, 0.1, 100)\n",
    "plt.figure(figsize = (12, 6))\n",
    "J_train = np.zeros(len(lamb))\n",
    "J_test = np.zeros(len(lamb))\n",
    "thetas = np.zeros((len(lamb),X_train.shape[1]))\n",
    "axes = plt.gca()\n",
    "for i in range(len(lamb)):\n",
    "    theta, _ = regularized_grad_descent(X_train, y_train, alpha=0.1, lambda_reg = lamb[i], num_iter=1000)\n",
    "    thetas[i] = theta[-1]\n",
    "    J_train[i] = compute_square_loss(X_train, y_train, thetas[i])\n",
    "    J_test[i] = compute_square_loss(X_test, y_test, thetas[i])\n",
    "\n",
    "print('the minimum test loss is {}'.format(min(J_test)))\n",
    "print('the minimum train loss is {}'.format(min(J_train)))\n",
    "plt.plot(lamb, J_train, label = 'train_loss')\n",
    "plt.plot(lamb, J_test, label = 'test_loss')\n",
    "plt.xscale('log')\n",
    "plt.xlabel('log(lambda)')\n",
    "plt.ylabel('loss')\n",
    "axes.set_ylim([0,10])\n",
    "plt.legend()\n",
    "plt.savefig('/Users/twff/Downloads/machine learning/hw/hw1-sgd/image257')"
   ]
  },
  {
   "cell_type": "markdown",
   "metadata": {
    "collapsed": true
   },
   "source": [
    "lambda = 0.01"
   ]
  },
  {
   "cell_type": "code",
   "execution_count": null,
   "metadata": {
    "collapsed": true
   },
   "outputs": [],
   "source": []
  },
  {
   "cell_type": "code",
   "execution_count": null,
   "metadata": {
    "collapsed": true
   },
   "outputs": [],
   "source": []
  },
  {
   "cell_type": "code",
   "execution_count": null,
   "metadata": {
    "collapsed": true
   },
   "outputs": [],
   "source": []
  },
  {
   "cell_type": "markdown",
   "metadata": {},
   "source": [
    "### 2.6 Stochastic Gradient Descent"
   ]
  },
  {
   "cell_type": "markdown",
   "metadata": {},
   "source": [
    "#### 2.6.1\n"
   ]
  },
  {
   "cell_type": "markdown",
   "metadata": {},
   "source": [
    "#### 2.6.2"
   ]
  },
  {
   "cell_type": "code",
   "execution_count": 25,
   "metadata": {
    "collapsed": true
   },
   "outputs": [],
   "source": [
    "def next_batch(X, y, batchSize):\n",
    "    # loop over our dataset `X` in mini-batches of size `batchSize`\n",
    "    for i in np.arange(0, X.shape[0], batchSize):\n",
    "        # yield a tuple of the current batched data and labels\n",
    "        yield (X[i:i + batchSize], y[i:i + batchSize])"
   ]
  },
  {
   "cell_type": "code",
   "execution_count": 26,
   "metadata": {
    "collapsed": false
   },
   "outputs": [
    {
     "ename": "SyntaxError",
     "evalue": "invalid syntax (<ipython-input-26-10cce7f9fb56>, line 32)",
     "output_type": "error",
     "traceback": [
      "\u001b[0;36m  File \u001b[0;32m\"<ipython-input-26-10cce7f9fb56>\"\u001b[0;36m, line \u001b[0;32m32\u001b[0m\n\u001b[0;31m    theta[]=theta\u001b[0m\n\u001b[0m          ^\u001b[0m\n\u001b[0;31mSyntaxError\u001b[0m\u001b[0;31m:\u001b[0m invalid syntax\n"
     ]
    }
   ],
   "source": [
    "import random\n",
    "def stochastic_grad_descent(X, y, alpha=0.1, lambda_reg=1, num_iter=1000):\n",
    "    \"\"\"\n",
    "    In this question you will implement stochastic gradient descent with a regularization term\n",
    "    \n",
    "    Args:\n",
    "        X - the feature vector, 2D numpy array of size (num_instances, num_features)\n",
    "        y - the label vector, 1D numpy array of size (num_instances)\n",
    "        alpha - string or float. step size in gradient descent\n",
    "                NOTE: In SGD, it's not always a good idea to use a fixed step size. Usually it's set to 1/sqrt(t) or 1/t\n",
    "                if alpha is a float, then the step size in every iteration is alpha.\n",
    "                if alpha == \"1/sqrt(t)\", alpha = 1/sqrt(t)\n",
    "                if alpha == \"1/t\", alpha = 1/t\n",
    "        lambda_reg - the regularization coefficient\n",
    "        num_iter - number of epochs (i.e number of times) to go through the whole training set\n",
    "    \n",
    "    Returns:\n",
    "        theta_hist - the history of parameter vector, 3D numpy array of size (num_iter, num_instances, num_features) \n",
    "        loss hist - the history of regularized loss function vector, 2D numpy array of size(num_iter, num_instances)\n",
    "    \"\"\"\n",
    "    num_instances, num_features = X.shape[0], X.shape[1]\n",
    "    theta = np.ones(num_features) #Initialize theta\n",
    "    theta_hist = np.zeros((num_iter, num_instances, num_features))  #Initialize theta_hist\n",
    "    loss_hist = np.zeros((num_iter, num_instances)) #Initialize loss_hist\n",
    "    n = list(range(num_instances))\n",
    "    start = timeit.default_timer()\n",
    "    for epoch in np.arange(0, epoch):\n",
    "        epoch_loss = []\n",
    "        for (batchX, batchY) in next_batch(X, y, bacth_size):\n",
    "            loss = compute_square_loss(batchX, batchy, theta)\n",
    "            epoch_loss.append(loss)\n",
    "            theta[]=theta\n",
    "            if type(alpha) == float:\n",
    "                eta = alpha\n",
    "            elif alpha == \"1/sqrt(t)\":\n",
    "                eta = 1 / np.sqrt(j)\n",
    "            elif alpha == \"1/t\":\n",
    "                eta == 1/j\n",
    "            else:\n",
    "                return\n",
    "            gradient = compute_square_loss_gradient(X, y, theta)\n",
    "            gradient = gradient + 2 * lambda_reg * theta\n",
    "            theta = theta - eta * gradient\n",
    "        loss_hist[epoch, ]\n",
    "    \n",
    "            \n",
    "            \n",
    "        \n",
    "    #for i in range(0, num_iter):\n",
    "     #   np.random.shuffle(n)\n",
    "     #  for j in n:\n",
    "    #     if type(alpha) == float:\n",
    "         #       eta = alpha\n",
    "        #    elif alpha == \"1/sqrt(t)\":\n",
    "          #      eta = 1 / np.sqrt(j)\n",
    "           # elif alpha == \"1/t\":\n",
    "           #     eta == 1/j\n",
    "            #else:\n",
    "              #  return\n",
    "           # theta_hist[i, j] = theta\n",
    "            #loss_hist[i, j] = compute_square_loss(X, y, theta)\n",
    "            #gradient = compute_square_loss_gradient(X, y, theta)\n",
    "            #gradient = gradient + 2 * lambda_reg * theta\n",
    "            #theta = theta - eta * gradient  # update\n",
    "    #stop = timeit.default_timer()\n",
    "    #print(stop - start)\n",
    "    return theta_hist, loss_hist"
   ]
  },
  {
   "cell_type": "code",
   "execution_count": null,
   "metadata": {
    "collapsed": true
   },
   "outputs": [],
   "source": [
    "import random\n",
    "def stochastic_grad_descent(X, y, alpha=0.1, lambda_reg=1, num_iter=1000):\n",
    "    \"\"\"\n",
    "    In this question you will implement stochastic gradient descent with a regularization term\n",
    "    \n",
    "    Args:\n",
    "        X - the feature vector, 2D numpy array of size (num_instances, num_features)\n",
    "        y - the label vector, 1D numpy array of size (num_instances)\n",
    "        alpha - string or float. step size in gradient descent\n",
    "                NOTE: In SGD, it's not always a good idea to use a fixed step size. Usually it's set to 1/sqrt(t) or 1/t\n",
    "                if alpha is a float, then the step size in every iteration is alpha.\n",
    "                if alpha == \"1/sqrt(t)\", alpha = 1/sqrt(t)\n",
    "                if alpha == \"1/t\", alpha = 1/t\n",
    "        lambda_reg - the regularization coefficient\n",
    "        num_iter - number of epochs (i.e number of times) to go through the whole training set\n",
    "    \n",
    "    Returns:\n",
    "        theta_hist - the history of parameter vector, 3D numpy array of size (num_iter, num_instances, num_features) \n",
    "        loss hist - the history of regularized loss function vector, 2D numpy array of size(num_iter, num_instances)\n",
    "        time - the amount of time it takes on your computer for a single epoch of SGD\n",
    "    \"\"\"\n",
    "    num_instances, num_features = X.shape[0], X.shape[1]\n",
    "    theta = np.ones(num_features) #Initialize theta\n",
    "    theta_hist = np.zeros((num_iter, num_instances, num_features))  #Initialize theta_hist\n",
    "    loss_hist = np.zeros((num_iter, num_instances)) #Initialize loss_hist\n",
    "    batchsize = 1\n",
    "    time = []\n",
    "    n = list(range(num_instances))\n",
    "    \n",
    "    for epoch in np.arange(0, num_iter):\n",
    "        epoch_loss = []\n",
    "        np.random.shuffle(n)\n",
    "        start = timeit.default_timer()\n",
    "        for i in np.arange(0, num_instances, batchsize):\n",
    "            batchX = X[i:i + batchsize]\n",
    "            batchy = y[i:i + batchsize]\n",
    "            loss = compute_square_loss(batchX, batchy, theta)\n",
    "            epoch_loss.append(loss)\n",
    "            t = i/batchsize + 1\n",
    "            theta_hist[epoch,t-1]=theta\n",
    "            if type(alpha) == float:\n",
    "                eta = alpha\n",
    "            elif alpha == \"1/sqrt(t)\":\n",
    "                eta = 1 / np.sqrt(t)\n",
    "            else:\n",
    "                eta = 1/t\n",
    "            gradient = compute_square_loss_gradient(batchX, batchy, theta)\n",
    "            gradient = gradient + 2 * lambda_reg * theta\n",
    "            theta = theta - eta * gradient\n",
    "        loss_hist.append(np.average(epoch_loss))\n",
    "        stop = timeit.default_timer()\n",
    "        time.append(stop - start)\n",
    "    return theta_hist, loss_hist, time"
   ]
  },
  {
   "cell_type": "code",
   "execution_count": 27,
   "metadata": {
    "collapsed": false
   },
   "outputs": [],
   "source": [
    "import random\n",
    "import timeit\n",
    "def stochastic_grad_descent(X, y, alpha=0.1, lambda_reg=1, num_iter=1000):\n",
    "    \"\"\"\n",
    "    In this question you will implement stochastic gradient descent with a regularization term\n",
    "    \n",
    "    Args:\n",
    "        X - the feature vector, 2D numpy array of size (num_instances, num_features)\n",
    "        y - the label vector, 1D numpy array of size (num_instances)\n",
    "        alpha - string or float. step size in gradient descent\n",
    "                NOTE: In SGD, it's not always a good idea to use a fixed step size. Usually it's set to 1/sqrt(t) or 1/t\n",
    "                if alpha is a float, then the step size in every iteration is alpha.\n",
    "                if alpha == \"1/sqrt(t)\", alpha = 1/sqrt(t)\n",
    "                if alpha == \"1/t\", alpha = 1/t\n",
    "        lambda_reg - the regularization coefficient\n",
    "        num_iter - number of epochs (i.e number of times) to go through the whole training set\n",
    "    \n",
    "    Returns:\n",
    "        theta_hist - the history of parameter vector, 3D numpy array of size (num_iter, num_instances, num_features) \n",
    "        loss hist - the history of regularized loss function vector, 2D numpy array of size(num_iter, num_instances)\n",
    "        time - the amount of time it takes on your computer for a single epoch of SGD\n",
    "    \"\"\"\n",
    "    num_instances, num_features = X.shape[0], X.shape[1]\n",
    "    theta = np.ones(num_features) #Initialize theta\n",
    "    theta_hist = np.zeros((num_iter, num_instances, num_features))  #Initialize theta_hist\n",
    "    loss_hist = np.zeros((num_iter, num_instances)) #Initialize loss_hist\n",
    "    batchsize = num_instances / num_iter\n",
    "    time = []\n",
    "    n = list(range(num_instances))\n",
    "    for epoch in np.arange(0, num_iter):\n",
    "        #epoch_loss = []\n",
    "        np.random.shuffle(n)\n",
    "        start = timeit.default_timer()\n",
    "        for i in range(len(n)):\n",
    "            loss = 0\n",
    "            if type(alpha) == float:\n",
    "                eta = alpha\n",
    "            elif alpha == \"1/sqrt(t)\":\n",
    "                eta = 0.1 / np.sqrt(i+1)\n",
    "            else:\n",
    "                eta = 0.1/(i+1)\n",
    "            hypothesis = np.sum(X[n[i]] * theta)\n",
    "            loss = hypothesis - y[n[i]]\n",
    "            cost = loss*loss\n",
    "            gradient = np.dot(X[n[i]], loss)\n",
    "            gradient = gradient + 2 * lambda_reg * theta\n",
    "            theta = theta - eta * gradient\n",
    "            theta_hist[epoch,i] = theta\n",
    "            loss_hist[epoch,n[i]] = cost\n",
    "        stop = timeit.default_timer()\n",
    "        time.append(stop - start)\n",
    "    return theta_hist, loss_hist, time"
   ]
  },
  {
   "cell_type": "code",
   "execution_count": 29,
   "metadata": {
    "collapsed": false,
    "scrolled": true
   },
   "outputs": [
    {
     "data": {
      "image/png": "[encoded data removed]",
      "text/plain": [
       "<matplotlib.figure.Figure at 0x11b23ab38>"
      ]
     },
     "metadata": {},
     "output_type": "display_data"
    }
   ],
   "source": [
    "\n",
    "\n",
    "alpha = [0.05,0.005,0.01,0.001]\n",
    "fig = plt.figure(figsize = (12,6))\n",
    "axes = plt.gca()\n",
    "\n",
    "for i in range(len(alpha)):\n",
    "    theta, loss, time = stochastic_grad_descent(X_train, y_train, alpha=alpha[i], lambda_reg=0.01, num_iter=500)\n",
    "    plt.plot(np.arange(0, 500),loss[:,-1], label = alpha[i])\n",
    "\n",
    "fig.suptitle(\"Training Loss\")\n",
    "plt.xlabel(\"Epoch\")\n",
    "plt.ylabel(\"Loss\")\n",
    "#axes.set_ylim([0,10])\n",
    "plt.yscale('log')\n",
    "plt.legend()\n",
    "plt.savefig('/Users/twff/Downloads/machine learning/hw/hw1-sgd/image2631')"
   ]
  },
  {
   "cell_type": "code",
   "execution_count": 38,
   "metadata": {
    "collapsed": false
   },
   "outputs": [
    {
     "data": {
      "image/png": "[encoded data removed]",
      "text/plain": [
       "<matplotlib.figure.Figure at 0x11b86aef0>"
      ]
     },
     "metadata": {},
     "output_type": "display_data"
    }
   ],
   "source": [
    "import timeit\n",
    "\n",
    "fig = plt.figure(figsize = (12,6))\n",
    "axes = plt.gca()\n",
    "\n",
    "theta, loss, time = stochastic_grad_descent(X_train, y_train, alpha=\"1/sqrt(t)\", lambda_reg=0.01, num_iter=100)\n",
    "plt.plot(np.arange(0, 100),loss[:,-1], label = \"1/sqrt(t)\")\n",
    "#print(loss)\n",
    "\n",
    "theta, loss, time = stochastic_grad_descent(X_train, y_train, alpha=\"1/t\", lambda_reg=0.01, num_iter=100)\n",
    "plt.plot(np.arange(0, 100),loss[:,-1], label = \"1/t\")\n",
    "#print(loss)\n",
    "\n",
    "fig.suptitle(\"Training Loss\")\n",
    "plt.xlabel(\"Epoch\")\n",
    "plt.ylabel(\"Loss\")\n",
    "#plt.yscale('log')\n",
    "axes.set_ylim([0,10])\n",
    "plt.legend()\n",
    "plt.savefig('/Users/twff/Downloads/machine learning/hw/hw1-sgd/image2632')"
   ]
  },
  {
   "cell_type": "code",
   "execution_count": null,
   "metadata": {
    "collapsed": false
   },
   "outputs": [],
   "source": [
    "np.average(time),max(time), min(time)"
   ]
  },
  {
   "cell_type": "code",
   "execution_count": null,
   "metadata": {
    "collapsed": true
   },
   "outputs": [],
   "source": []
  },
  {
   "cell_type": "code",
   "execution_count": null,
   "metadata": {
    "collapsed": true
   },
   "outputs": [],
   "source": []
  },
  {
   "cell_type": "code",
   "execution_count": null,
   "metadata": {
    "collapsed": true
   },
   "outputs": [],
   "source": []
  }
 ],
 "metadata": {
  "anaconda-cloud": {},
  "kernelspec": {
   "display_name": "Python [Root]",
   "language": "python",
   "name": "Python [Root]"
  },
  "language_info": {
   "codemirror_mode": {
    "name": "ipython",
    "version": 3
   },
   "file_extension": ".py",
   "mimetype": "text/x-python",
   "name": "python",
   "nbconvert_exporter": "python",
   "pygments_lexer": "ipython3",
   "version": "3.5.2"
  }
 },
 "nbformat": 4,
 "nbformat_minor": 0
}
