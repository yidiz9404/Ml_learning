{
 "cells": [
  {
   "cell_type": "code",
   "execution_count": 1,
   "metadata": {
    "collapsed": true
   },
   "outputs": [],
   "source": [
    "def feature_normalization(train):\n",
    "    \"\"\"Rescale the data so that each feature in the training set is in\n",
    "    the interval [0,1], and apply the same transformations to the test\n",
    "    set, using the statistics computed on the training set.\n",
    "\n",
    "    Args:\n",
    "        train - training set, a 2D numpy array of size (num_instances, num_features)\n",
    "    Returns:\n",
    "        train_normalized - training set after normalization\n",
    "\n",
    "    \"\"\"\n",
    "    mins_train = np.min(train, axis=0)\n",
    "    maxs_train = np.max(train, axis=0)\n",
    "    rng_train = maxs_train - mins_train\n",
    "    train_normalized = (train-mins_train)/rng_train\n",
    "    print('Normalization finish!')\n",
    "    return train_normalized"
   ]
  },
  {
   "cell_type": "code",
   "execution_count": 7,
   "metadata": {
    "collapsed": true
   },
   "outputs": [],
   "source": [
    "import numpy as np\n",
    "from scipy.optimize import minimize\n",
    "\n",
    "X = np.loadtxt(\"/Users/twff/Downloads/machine learning/hw/hw2-lasso/data/X_train.txt\")\n",
    "y = np.loadtxt(\"/Users/twff/Downloads/machine learning/hw/hw2-lasso/data/y_train.txt\")\n",
    "X_valid = np.loadtxt(\"/Users/twff/Downloads/machine learning/hw/hw2-lasso/data/X_valid.txt\")\n",
    "y_valid = np.loadtxt(\"/Users/twff/Downloads/machine learning/hw/hw2-lasso/data/y_valid.txt\")"
   ]
  },
  {
   "cell_type": "code",
   "execution_count": 5,
   "metadata": {
    "collapsed": false
   },
   "outputs": [
    {
     "name": "stdout",
     "output_type": "stream",
     "text": [
      "Normalization finish!\n",
      "Normalization finish!\n"
     ]
    }
   ],
   "source": [
    "X_train = feature_normalization(X)\n",
    "X_valid = feature_normalization(X_valid)"
   ]
  },
  {
   "cell_type": "code",
   "execution_count": 8,
   "metadata": {
    "collapsed": false,
    "scrolled": false
   },
   "outputs": [
    {
     "name": "stdout",
     "output_type": "stream",
     "text": [
      "1e-12 0.0587411740074\n",
      "1e-11 0.0587404779573\n",
      "1e-10 0.0587400361188\n",
      "1e-09 0.0587394466821\n",
      "1e-08 0.0587476536261\n",
      "1e-07 0.0588260621383\n",
      "1e-06 0.0596279314919\n",
      "1e-05 0.0693703648818\n",
      "0.0001 0.212609358879\n",
      "0.001 1.53716628641\n",
      "0.01 6.71421847418\n",
      "0.1 19.9767938946\n",
      "1 31.131192405\n",
      "10 197.027940218\n",
      "100 619.548850394\n",
      "1000 731.586308781\n",
      "10000 744.446029368\n",
      "100000 745.750725135\n"
     ]
    }
   ],
   "source": [
    "(N,D) = X_train.shape\n",
    "\n",
    "w = np.random.rand(D,1)\n",
    "\n",
    "def ridge(Lambda):\n",
    "    def ridge_obj(theta):\n",
    "        return ((np.linalg.norm(np.dot(X, theta) - y))**2)/(2*N) + Lambda*(np.linalg.norm(theta))**2\n",
    "    return ridge_obj\n",
    "\n",
    "def compute_loss(X, y, Lambda, theta):\n",
    "    (N,D) = X.shape\n",
    "    return ((np.linalg.norm(np.dot(X, theta) - y))**2)/(2*N)\n",
    "\n",
    "for i in range(-12,6):\n",
    "    Lambda = 10**i;\n",
    "    w_opt = minimize(ridge(Lambda), w)\n",
    "    print(Lambda, compute_loss(X_valid, y_valid, Lambda, w_opt.x))\n",
    "    \n"
   ]
  },
  {
   "cell_type": "markdown",
   "metadata": {},
   "source": [
    "1e-05 0.100575155982"
   ]
  },
  {
   "cell_type": "code",
   "execution_count": 22,
   "metadata": {
    "collapsed": false
   },
   "outputs": [
    {
     "data": {
      "text/plain": [
       "0"
      ]
     },
     "execution_count": 22,
     "metadata": {},
     "output_type": "execute_result"
    }
   ],
   "source": [
    "w_opt = minimize(ridge(1e-5), w)\n",
    "len(w_opt.x[w_opt.x==0])"
   ]
  },
  {
   "cell_type": "code",
   "execution_count": 21,
   "metadata": {
    "collapsed": false
   },
   "outputs": [
    {
     "data": {
      "text/plain": [
       "50"
      ]
     },
     "execution_count": 21,
     "metadata": {},
     "output_type": "execute_result"
    }
   ],
   "source": [
    "len(w_opt.x[w_opt.x <= 0.001])"
   ]
  },
  {
   "cell_type": "code",
   "execution_count": 24,
   "metadata": {
    "collapsed": false
   },
   "outputs": [
    {
     "data": {
      "text/plain": [
       "0.10057515598174918"
      ]
     },
     "execution_count": 24,
     "metadata": {},
     "output_type": "execute_result"
    }
   ],
   "source": [
    "from sklearn.linear_model import Ridge\n",
    "clf = Ridge(alpha=1e-5)\n",
    "clf.fit(X, y)\n",
    "a = clf.predict(X)#numpy.dot(X,theta)\n",
    "a =((np.linalg.norm(a - y))**2)/(2*N)\n",
    "b = compute_loss(X_valid, y_valid, Lambda, w_opt.x)\n",
    "b\n"
   ]
  },
  {
   "cell_type": "code",
   "execution_count": 102,
   "metadata": {
    "collapsed": false
   },
   "outputs": [],
   "source": [
    "def lassoShooting(X, y, lambda_reg, w, ep = 1e-6, iter_max=1000):\n",
    "    (n,p) = X.shape\n",
    "    converge = True\n",
    "    itera = 0\n",
    "    \n",
    "    while converge and (itera + 1) <= iter_max:\n",
    "        w_old = w.copy()\n",
    "        for j in range(p):\n",
    "            a = []\n",
    "            c = []\n",
    "            for i in range(n):\n",
    "                aj = 2 * X[i,j]*X[i,j]\n",
    "                cj = 2 * X[i,j]*(y[i]-np.dot(w.T,X[i]) + X[i,j]*w[j])\n",
    "                a.append(aj)\n",
    "                c.append(cj)\n",
    "            aj_sum = sum(a)\n",
    "            cj_sum = sum(c)\n",
    "            w[j] = soft(cj_sum/aj_sum, lambda_reg/aj_sum)\n",
    "        converge = (sum(abs(w-w_old)) >= ep)\n",
    "        #print(sum(abs(w-w_old)))\n",
    "        itera +=1\n",
    "    print(itera)\n",
    "    return w\n",
    "\n",
    "def soft(a, b):\n",
    "    if a <- b:\n",
    "        c = a+b\n",
    "    elif a > b:\n",
    "        c = a - b\n",
    "    else:\n",
    "        c = 0\n",
    "    return c"
   ]
  },
  {
   "cell_type": "code",
   "execution_count": 118,
   "metadata": {
    "collapsed": false
   },
   "outputs": [
    {
     "name": "stdout",
     "output_type": "stream",
     "text": [
      "1000\n",
      "1e-05 0.918811698745\n",
      "1000\n",
      "0.0001 0.605207267911\n",
      "1000\n",
      "0.001 0.0930107899278\n",
      "1000\n",
      "0.01 0.0367527183921\n",
      "603\n",
      "0.1 0.0168906403666\n",
      "216\n",
      "1 0.00975489806724\n",
      "267\n",
      "10 0.221374192341\n"
     ]
    },
    {
     "data": {
      "image/png": "[encoded data removed]",
      "text/plain": [
       "<matplotlib.figure.Figure at 0x1142b84e0>"
      ]
     },
     "metadata": {},
     "output_type": "display_data"
    }
   ],
   "source": [
    "import matplotlib.pyplot as plt\n",
    "%matplotlib inline\n",
    "\n",
    "w = np.zeros(X.shape[1])\n",
    "loss = []\n",
    "for i in range(-5,2):\n",
    "    Lambda = 10**i;\n",
    "    w_opt = lassoShooting(X, y, lambda_reg=Lambda, w=w, ep=1e-3)\n",
    "    loss.append(compute_loss(X_valid, y_valid, Lambda, w_opt))\n",
    "    print(Lambda, compute_loss(X_valid, y_valid, Lambda, w_opt))\n",
    "\n",
    "plt.plot(range(-5,2), loss)\n",
    "plt.xlabel(\"lambda\")\n",
    "plt.ylabel(\"Loss\")\n",
    "plt.savefig(\"/Users/twff/Downloads/machine learning/hw/hw2-lasso/img311a\")"
   ]
  },
  {
   "cell_type": "code",
   "execution_count": 103,
   "metadata": {
    "collapsed": false
   },
   "outputs": [
    {
     "name": "stdout",
     "output_type": "stream",
     "text": [
      "1000\n",
      "1e-05 0.918811698745\n",
      "1000\n",
      "0.0001 0.605207267911\n",
      "1000\n",
      "0.001 0.0930107899278\n",
      "1000\n",
      "0.01 0.0367527183921\n",
      "603\n",
      "0.1 0.0168906403666\n",
      "216\n",
      "1 0.00975489806724\n",
      "267\n",
      "10 0.221374192341\n"
     ]
    },
    {
     "data": {
      "text/plain": [
       "<matplotlib.text.Text at 0x1144236d8>"
      ]
     },
     "execution_count": 103,
     "metadata": {},
     "output_type": "execute_result"
    },
    {
     "data": {
      "image/png": "[encoded data removed]",
      "text/plain": [
       "<matplotlib.figure.Figure at 0x114409eb8>"
      ]
     },
     "metadata": {},
     "output_type": "display_data"
    }
   ],
   "source": [
    "w = np.zeros(X.shape[1])\n",
    "loss = []\n",
    "for i in range(-5,2):\n",
    "    Lambda = 10**i;\n",
    "    w_opt = lassoShooting(X, y, lambda_reg=Lambda, w=w, ep=1e-3)\n",
    "    loss.append(compute_loss(X_valid, y_valid, Lambda, w_opt))\n",
    "    print(Lambda, compute_loss(X_valid, y_valid, Lambda, w_opt))\n",
    "\n",
    "plt.plot(range(-5,2), loss)\n",
    "plt.xlabel(\"lambda\")\n",
    "plt.ylabel(\"Loss\")"
   ]
  },
  {
   "cell_type": "code",
   "execution_count": 37,
   "metadata": {
    "collapsed": false,
    "scrolled": true
   },
   "outputs": [
    {
     "name": "stdout",
     "output_type": "stream",
     "text": [
      "2000\n",
      "0.0 0.608928505664\n",
      "2000\n",
      "0.111111111111 0.0156058749167\n",
      "2000\n",
      "0.222222222222 0.0092999207829\n",
      "2000\n",
      "0.333333333333 0.00884878864898\n",
      "2000\n",
      "0.444444444444 0.00867424750337\n",
      "2000\n",
      "0.555555555556 0.00900410321402\n",
      "2000\n",
      "0.666666666667 0.00811654625535\n",
      "2000\n",
      "0.777777777778 0.00935841550302\n",
      "2000\n",
      "0.888888888889 0.0103874108549\n",
      "2000\n",
      "1.0 0.00844747354922\n"
     ]
    },
    {
     "data": {
      "image/png": "[encoded data removed]",
      "text/plain": [
       "<matplotlib.figure.Figure at 0x113a477b8>"
      ]
     },
     "metadata": {},
     "output_type": "display_data"
    }
   ],
   "source": [
    "w = np.zeros(X.shape[1])\n",
    "lambda_reg = np.linspace(0,1,10)\n",
    "loss = []\n",
    "for i in range(len(lambda_reg)):\n",
    "    w_opt = lassoShooting(X, y, lambda_reg=lambda_reg[i], w=w, ep=1e-3)\n",
    "    loss.append(compute_loss(X_valid, y_valid, lambda_reg[i], w_opt))\n",
    "    print(lambda_reg[i], compute_loss(X_valid, y_valid, lambda_reg[i], w_opt))\n",
    "\n",
    "plt.plot(lambda_reg, loss)\n",
    "plt.xlabel(\"lambda\")\n",
    "plt.ylabel(\"Loss\")\n",
    "plt.savefig(\"/Users/twff/Downloads/machine learning/hw/hw2-lasso/img311b\")"
   ]
  },
  {
   "cell_type": "code",
   "execution_count": 33,
   "metadata": {
    "collapsed": false
   },
   "outputs": [],
   "source": [
    "X_test = np.loadtxt('/Users/twff/Downloads/machine learning/hw/hw2-lasso/data/X_test.txt')\n",
    "y_test = np.loadtxt('/Users/twff/Downloads/machine learning/hw/hw2-lasso/data/y_test.txt')"
   ]
  },
  {
   "cell_type": "code",
   "execution_count": 35,
   "metadata": {
    "collapsed": false
   },
   "outputs": [
    {
     "name": "stdout",
     "output_type": "stream",
     "text": [
      "2000\n"
     ]
    },
    {
     "data": {
      "text/plain": [
       "0.0093066225296064235"
      ]
     },
     "execution_count": 35,
     "metadata": {},
     "output_type": "execute_result"
    }
   ],
   "source": [
    "w = np.zeros(X.shape[1])\n",
    "w_opt = lassoShooting(X, y, lambda_reg=0.4, w=w, ep=1e-3)\n",
    "compute_loss(X_test, y_test, 0.4 ,w_opt)"
   ]
  },
  {
   "cell_type": "code",
   "execution_count": 38,
   "metadata": {
    "collapsed": false
   },
   "outputs": [
    {
     "name": "stdout",
     "output_type": "stream",
     "text": [
      "2000\n"
     ]
    },
    {
     "data": {
      "text/plain": [
       "51"
      ]
     },
     "execution_count": 38,
     "metadata": {},
     "output_type": "execute_result"
    }
   ],
   "source": [
    "w = np.zeros(X.shape[1])\n",
    "w_opt = lassoShooting(X, y, lambda_reg=0.4, w=w, ep=1e-3)\n",
    "len(w_opt[w_opt<=1e-3])"
   ]
  },
  {
   "cell_type": "code",
   "execution_count": 105,
   "metadata": {
    "collapsed": false
   },
   "outputs": [],
   "source": [
    "def lassoShooting_homotopy(X, y, threshold = 1e-3, pa=0.5, iter_max=1000):\n",
    "    lambda_max = 2 * np.linalg.norm(np.dot(X.T, y), np.inf)\n",
    "    (n,p) = X.shape\n",
    "    converge = True\n",
    "    itera = 0\n",
    "    lambda_reg = lambda_max - 1\n",
    "    lambda_old = 0\n",
    "    lambda_list = []\n",
    "    loss = []\n",
    "    w = np.zeros(p)\n",
    "    \n",
    "    while np.abs(lambda_old - lambda_reg)>threshold:\n",
    "        w_prev = w.copy()\n",
    "        w_new = lassoShooting(X, y, lambda_reg, w, ep = 1e-3, iter_max=iter_max)\n",
    "        loss.append(compute_loss(X_valid, y_valid, lambda_reg, w_new))\n",
    "        lambda_list.append(lambda_reg)\n",
    "        if(sum(abs(w_prev-w_new)) < threshold):\n",
    "            break\n",
    "        w = w_new.copy()\n",
    "        lambda_reg = pa*lambda_reg\n",
    "    \n",
    "    min_index = np.argmin(loss)\n",
    "    lambda_opt = lambda_list[min_index]\n",
    "    return lambda_list, loss"
   ]
  },
  {
   "cell_type": "code",
   "execution_count": 115,
   "metadata": {
    "collapsed": false
   },
   "outputs": [
    {
     "name": "stdout",
     "output_type": "stream",
     "text": [
      "2\n",
      "56\n",
      "312\n",
      "321\n",
      "259\n",
      "254\n",
      "242\n",
      "286\n",
      "249\n",
      "208\n",
      "197\n",
      "195\n",
      "191\n",
      "176\n",
      "140\n",
      "273\n",
      "620\n",
      "348\n",
      "317\n",
      "465\n",
      "428\n",
      "360\n"
     ]
    }
   ],
   "source": [
    "Lambda, loss= lassoShooting_homotopy(X, y, 1e-3, pa=0.5)"
   ]
  },
  {
   "cell_type": "code",
   "execution_count": 41,
   "metadata": {
    "collapsed": false
   },
   "outputs": [
    {
     "data": {
      "text/plain": [
       "([1000, 100.0, 10.0, 1.0, 0.1, 0.010000000000000002, 0.0010000000000000002],\n",
       " [516.83346386019207,\n",
       "  22.266295363802776,\n",
       "  0.32600874662777535,\n",
       "  0.012101230499456666,\n",
       "  0.017018782604924364,\n",
       "  0.0399054106771876,\n",
       "  0.047742464547626311])"
      ]
     },
     "execution_count": 41,
     "metadata": {},
     "output_type": "execute_result"
    }
   ],
   "source": [
    "Lambda, loss"
   ]
  },
  {
   "cell_type": "code",
   "execution_count": 106,
   "metadata": {
    "collapsed": false,
    "scrolled": true
   },
   "outputs": [
    {
     "name": "stdout",
     "output_type": "stream",
     "text": [
      "2\n",
      "56\n",
      "312\n",
      "321\n",
      "259\n",
      "254\n",
      "242\n",
      "286\n",
      "249\n",
      "208\n",
      "197\n",
      "195\n",
      "191\n",
      "176\n",
      "140\n",
      "273\n",
      "620\n",
      "348\n",
      "317\n",
      "465\n",
      "428\n",
      "360\n",
      "Homotopy time is 124.1882728970013\n"
     ]
    }
   ],
   "source": [
    "import timeit\n",
    "\n",
    "w = np.zeros(X.shape[1])\n",
    "start = timeit.default_timer()\n",
    "w_opt = lassoShooting_homotopy(X, y,1e-3, pa=0.5)\n",
    "stop = timeit.default_timer()\n",
    "print(\"Homotopy time is {}\".format(stop-start))\n"
   ]
  },
  {
   "cell_type": "code",
   "execution_count": 100,
   "metadata": {
    "collapsed": false,
    "scrolled": true
   },
   "outputs": [
    {
     "name": "stdout",
     "output_type": "stream",
     "text": [
      "2\n",
      "56\n",
      "341\n",
      "369\n",
      "320\n",
      "340\n",
      "387\n",
      "409\n",
      "450\n",
      "543\n",
      "749\n",
      "1000\n",
      "1000\n",
      "1000\n",
      "1000\n",
      "1000\n",
      "1000\n",
      "1000\n",
      "1000\n",
      "1000\n",
      "1000\n",
      "1000\n",
      "Regular time is 302.8984123150003\n"
     ]
    }
   ],
   "source": [
    "\n",
    "start = timeit.default_timer()\n",
    "for i in range(len(Lambda)):\n",
    "    w = np.zeros(X.shape[1])\n",
    "    w_opt = lassoShooting(X, y, lambda_reg=Lambda[i], w=w, ep=1e-3)\n",
    "    \n",
    "stop = timeit.default_timer()\n",
    "print(\"Regular time is {}\".format(stop-start))"
   ]
  },
  {
   "cell_type": "code",
   "execution_count": 117,
   "metadata": {
    "collapsed": false
   },
   "outputs": [
    {
     "name": "stdout",
     "output_type": "stream",
     "text": [
      "Regular time is 9.962034545998904\n"
     ]
    }
   ],
   "source": [
    "start = timeit.default_timer()\n",
    "for i in range(len(Lambda)):\n",
    "    w = np.zeros(X.shape[1])\n",
    "    w_opt = lassoShooting_matrix(X, y, lambda_reg=Lambda[i], w=w, ep=1e-3)\n",
    "    \n",
    "stop = timeit.default_timer()\n",
    "print(\"Regular time is {}\".format(stop-start))"
   ]
  },
  {
   "cell_type": "code",
   "execution_count": 109,
   "metadata": {
    "collapsed": true
   },
   "outputs": [],
   "source": [
    "def lassoShooting_matrix(X, y, lambda_reg, w, ep = 1e-3, iter_max=500):\n",
    "    (n,p) = X.shape\n",
    "    w_opt = w\n",
    "    converge = True\n",
    "    itera = 0\n",
    "    \n",
    "    while converge and (itera+1) <= iter_max:\n",
    "        w_old = w.copy()\n",
    "        a = np.dot(X.T, X)\n",
    "        for j in range(p):\n",
    "            a = 2*X[:,j].dot(X[:,j])\n",
    "            c = 2*X[:,j].dot(y) - 2* X.dot(w).dot(X[:,j]) +  2*X[:,j].dot(X[:,j])*w[j]\n",
    "            w[j] = soft(c/a, lambda_reg/a)\n",
    "        converge = (sum(abs(w-w_old)) >= ep)\n",
    "        #print(sum(abs(w-w_old)))\n",
    "        itera +=1\n",
    "    return w"
   ]
  },
  {
   "cell_type": "code",
   "execution_count": 107,
   "metadata": {
    "collapsed": false
   },
   "outputs": [
    {
     "name": "stdout",
     "output_type": "stream",
     "text": [
      "1000\n",
      "Regular time is 20.220894887999748\n"
     ]
    }
   ],
   "source": [
    "start = timeit.default_timer()\n",
    "w = np.zeros(X.shape[1])\n",
    "w_opt = lassoShooting(X, y, 0.4, w=w, ep=1e-3)  \n",
    "stop = timeit.default_timer()\n",
    "print(\"Regular time is {}\".format(stop-start))"
   ]
  },
  {
   "cell_type": "code",
   "execution_count": 112,
   "metadata": {
    "collapsed": true
   },
   "outputs": [],
   "source": [
    "w = np.zeros(X.shape[1])"
   ]
  },
  {
   "cell_type": "code",
   "execution_count": 113,
   "metadata": {
    "collapsed": false
   },
   "outputs": [
    {
     "name": "stdout",
     "output_type": "stream",
     "text": [
      "Vectorization time is 0.46611224899970694\n"
     ]
    }
   ],
   "source": [
    "start = timeit.default_timer()\n",
    "\n",
    "w_opt = lassoShooting_matrix(X, y, 0.4, w=w, ep=1e-3)  \n",
    "stop = timeit.default_timer()\n",
    "print(\"Vectorization time is {}\".format(stop-start))"
   ]
  }
 ],
 "metadata": {
  "anaconda-cloud": {},
  "kernelspec": {
   "display_name": "Python [Root]",
   "language": "python",
   "name": "Python [Root]"
  },
  "language_info": {
   "codemirror_mode": {
    "name": "ipython",
    "version": 3
   },
   "file_extension": ".py",
   "mimetype": "text/x-python",
   "name": "python",
   "nbconvert_exporter": "python",
   "pygments_lexer": "ipython3",
   "version": "3.5.2"
  }
 },
 "nbformat": 4,
 "nbformat_minor": 0
}
